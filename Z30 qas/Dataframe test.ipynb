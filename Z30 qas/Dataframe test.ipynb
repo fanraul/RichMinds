{
 "cells": [
  {
   "cell_type": "code",
   "execution_count": 5,
   "metadata": {},
   "outputs": [
    {
     "data": {
      "text/html": [
       "<div>\n",
       "<style>\n",
       "    .dataframe thead tr:only-child th {\n",
       "        text-align: right;\n",
       "    }\n",
       "\n",
       "    .dataframe thead th {\n",
       "        text-align: left;\n",
       "    }\n",
       "\n",
       "    .dataframe tbody tr th {\n",
       "        vertical-align: top;\n",
       "    }\n",
       "</style>\n",
       "<table border=\"1\" class=\"dataframe\">\n",
       "  <thead>\n",
       "    <tr style=\"text-align: right;\">\n",
       "      <th></th>\n",
       "      <th>A</th>\n",
       "      <th>B</th>\n",
       "      <th>C</th>\n",
       "      <th>D</th>\n",
       "    </tr>\n",
       "  </thead>\n",
       "  <tbody>\n",
       "    <tr>\n",
       "      <th>2000-01-01</th>\n",
       "      <td>-0.048497</td>\n",
       "      <td>-0.383392</td>\n",
       "      <td>0.061058</td>\n",
       "      <td>0.922356</td>\n",
       "    </tr>\n",
       "    <tr>\n",
       "      <th>2000-01-02</th>\n",
       "      <td>-0.798410</td>\n",
       "      <td>1.445940</td>\n",
       "      <td>1.022298</td>\n",
       "      <td>-1.422350</td>\n",
       "    </tr>\n",
       "    <tr>\n",
       "      <th>2000-01-03</th>\n",
       "      <td>-0.537043</td>\n",
       "      <td>1.538101</td>\n",
       "      <td>0.922385</td>\n",
       "      <td>-0.381204</td>\n",
       "    </tr>\n",
       "    <tr>\n",
       "      <th>2000-01-04</th>\n",
       "      <td>-0.838793</td>\n",
       "      <td>-0.546656</td>\n",
       "      <td>0.351019</td>\n",
       "      <td>-0.236688</td>\n",
       "    </tr>\n",
       "    <tr>\n",
       "      <th>2000-01-05</th>\n",
       "      <td>-0.080170</td>\n",
       "      <td>-0.021887</td>\n",
       "      <td>-1.457145</td>\n",
       "      <td>1.823567</td>\n",
       "    </tr>\n",
       "    <tr>\n",
       "      <th>2000-01-06</th>\n",
       "      <td>-1.281169</td>\n",
       "      <td>1.230012</td>\n",
       "      <td>-1.389655</td>\n",
       "      <td>0.252400</td>\n",
       "    </tr>\n",
       "    <tr>\n",
       "      <th>2000-01-07</th>\n",
       "      <td>0.129598</td>\n",
       "      <td>0.064726</td>\n",
       "      <td>-0.938876</td>\n",
       "      <td>0.788368</td>\n",
       "    </tr>\n",
       "    <tr>\n",
       "      <th>2000-01-08</th>\n",
       "      <td>-1.251204</td>\n",
       "      <td>0.444398</td>\n",
       "      <td>-1.069567</td>\n",
       "      <td>1.002816</td>\n",
       "    </tr>\n",
       "  </tbody>\n",
       "</table>\n",
       "</div>"
      ],
      "text/plain": [
       "                   A         B         C         D\n",
       "2000-01-01 -0.048497 -0.383392  0.061058  0.922356\n",
       "2000-01-02 -0.798410  1.445940  1.022298 -1.422350\n",
       "2000-01-03 -0.537043  1.538101  0.922385 -0.381204\n",
       "2000-01-04 -0.838793 -0.546656  0.351019 -0.236688\n",
       "2000-01-05 -0.080170 -0.021887 -1.457145  1.823567\n",
       "2000-01-06 -1.281169  1.230012 -1.389655  0.252400\n",
       "2000-01-07  0.129598  0.064726 -0.938876  0.788368\n",
       "2000-01-08 -1.251204  0.444398 -1.069567  1.002816"
      ]
     },
     "execution_count": 5,
     "metadata": {},
     "output_type": "execute_result"
    }
   ],
   "source": [
    "from pandas import DataFrame as df\n",
    "import pandas as pd\n",
    "import numpy as np\n",
    "\n",
    "dates = pd.date_range('1/1/2000', periods=8)\n",
    "\n",
    "df = pd.DataFrame(np.random.randn(8, 4), index=dates, columns=['A', 'B', 'C', 'D'])\n",
    "\n",
    "df"
   ]
  },
  {
   "cell_type": "code",
   "execution_count": 6,
   "metadata": {},
   "outputs": [
    {
     "name": "stdout",
     "output_type": "stream",
     "text": [
      "DatetimeIndex(['2000-01-01', '2000-01-02', '2000-01-03', '2000-01-04',\n",
      "               '2000-01-05', '2000-01-06', '2000-01-07', '2000-01-08'],\n",
      "              dtype='datetime64[ns]', freq='D')\n",
      "2000-01-01 00:00:00 <class 'pandas._libs.tslib.Timestamp'>\n"
     ]
    }
   ],
   "source": [
    "print(df.index)\n",
    "print(df.index[0],type(df.index[0]))"
   ]
  },
  {
   "cell_type": "code",
   "execution_count": 7,
   "metadata": {},
   "outputs": [
    {
     "data": {
      "text/plain": [
       "A   -0.048497\n",
       "B   -0.383392\n",
       "C    0.061058\n",
       "D    0.922356\n",
       "Name: 2000-01-01 00:00:00, dtype: float64"
      ]
     },
     "execution_count": 7,
     "metadata": {},
     "output_type": "execute_result"
    }
   ],
   "source": [
    "df.iloc[0]"
   ]
  },
  {
   "cell_type": "code",
   "execution_count": null,
   "metadata": {
    "collapsed": true
   },
   "outputs": [],
   "source": [
    "print(df.index[0].date())\n",
    "print(df.index[0].to_pydatetime(),type(df.index[0].to_pydatetime()))\n",
    "print(df.loc[df.index[0]])"
   ]
  },
  {
   "cell_type": "code",
   "execution_count": 62,
   "metadata": {},
   "outputs": [
    {
     "data": {
      "text/plain": [
       "6"
      ]
     },
     "execution_count": 62,
     "metadata": {},
     "output_type": "execute_result"
    }
   ],
   "source": [
    "from datetime import datetime as dt\n",
    "weekday = dt.strptime('2017-9-3','%Y-%m-%d').weekday()\n",
    "weekday"
   ]
  },
  {
   "cell_type": "code",
   "execution_count": 8,
   "metadata": {},
   "outputs": [
    {
     "data": {
      "text/plain": [
       "A   -0.048497\n",
       "B   -0.383392\n",
       "C    0.061058\n",
       "D    0.922356\n",
       "Name: 2000-01-01 00:00:00, dtype: float64"
      ]
     },
     "execution_count": 8,
     "metadata": {},
     "output_type": "execute_result"
    }
   ],
   "source": [
    "df.loc[df.index[0]]"
   ]
  },
  {
   "cell_type": "code",
   "execution_count": 11,
   "metadata": {},
   "outputs": [
    {
     "name": "stdout",
     "output_type": "stream",
     "text": [
      "<class 'pandas.core.indexes.base.Index'>\n"
     ]
    },
    {
     "data": {
      "text/plain": [
       "Index(['A', 'B', 'C', 'D'], dtype='object')"
      ]
     },
     "execution_count": 11,
     "metadata": {},
     "output_type": "execute_result"
    }
   ],
   "source": [
    "print(type(df.columns))\n",
    "df.columns"
   ]
  },
  {
   "cell_type": "code",
   "execution_count": 13,
   "metadata": {},
   "outputs": [
    {
     "data": {
      "text/plain": [
       "{Timestamp('2000-01-01 00:00:00', freq='D'): {'A': -0.048497459064263386,\n",
       "  'B': -0.38339249321829655,\n",
       "  'C': 0.061057532175199297,\n",
       "  'D': 0.92235610936045742},\n",
       " Timestamp('2000-01-02 00:00:00', freq='D'): {'A': -0.79841036025155487,\n",
       "  'B': 1.4459400834587424,\n",
       "  'C': 1.0222976250518923,\n",
       "  'D': -1.4223500556466084},\n",
       " Timestamp('2000-01-03 00:00:00', freq='D'): {'A': -0.53704294314573087,\n",
       "  'B': 1.5381010821470666,\n",
       "  'C': 0.92238541692824527,\n",
       "  'D': -0.38120400721505188},\n",
       " Timestamp('2000-01-04 00:00:00', freq='D'): {'A': -0.83879279224167202,\n",
       "  'B': -0.54665620252675462,\n",
       "  'C': 0.35101933855931072,\n",
       "  'D': -0.23668839037314637},\n",
       " Timestamp('2000-01-05 00:00:00', freq='D'): {'A': -0.080169636035624575,\n",
       "  'B': -0.021887032477660696,\n",
       "  'C': -1.4571447673050819,\n",
       "  'D': 1.8235666396567816},\n",
       " Timestamp('2000-01-06 00:00:00', freq='D'): {'A': -1.2811687922722808,\n",
       "  'B': 1.2300119792682844,\n",
       "  'C': -1.3896549170562484,\n",
       "  'D': 0.25240019932281232},\n",
       " Timestamp('2000-01-07 00:00:00', freq='D'): {'A': 0.12959795823094986,\n",
       "  'B': 0.06472627789006076,\n",
       "  'C': -0.93887593770401556,\n",
       "  'D': 0.78836811128583328},\n",
       " Timestamp('2000-01-08 00:00:00', freq='D'): {'A': -1.2512037909035405,\n",
       "  'B': 0.44439776729631741,\n",
       "  'C': -1.0695665637201954,\n",
       "  'D': 1.0028155784264392}}"
      ]
     },
     "execution_count": 13,
     "metadata": {},
     "output_type": "execute_result"
    }
   ],
   "source": [
    "dt = {id:dict(df.loc[id]) for id in df.index}\n",
    "dt"
   ]
  },
  {
   "cell_type": "code",
   "execution_count": 14,
   "metadata": {},
   "outputs": [
    {
     "data": {
      "text/plain": [
       "{'A': 2000-01-01   -0.048497\n",
       " 2000-01-02   -0.798410\n",
       " 2000-01-03   -0.537043\n",
       " 2000-01-04   -0.838793\n",
       " 2000-01-05   -0.080170\n",
       " 2000-01-06   -1.281169\n",
       " 2000-01-07    0.129598\n",
       " 2000-01-08   -1.251204\n",
       " Freq: D, Name: A, dtype: float64, 'B': 2000-01-01   -0.383392\n",
       " 2000-01-02    1.445940\n",
       " 2000-01-03    1.538101\n",
       " 2000-01-04   -0.546656\n",
       " 2000-01-05   -0.021887\n",
       " 2000-01-06    1.230012\n",
       " 2000-01-07    0.064726\n",
       " 2000-01-08    0.444398\n",
       " Freq: D, Name: B, dtype: float64, 'C': 2000-01-01    0.061058\n",
       " 2000-01-02    1.022298\n",
       " 2000-01-03    0.922385\n",
       " 2000-01-04    0.351019\n",
       " 2000-01-05   -1.457145\n",
       " 2000-01-06   -1.389655\n",
       " 2000-01-07   -0.938876\n",
       " 2000-01-08   -1.069567\n",
       " Freq: D, Name: C, dtype: float64, 'D': 2000-01-01    0.922356\n",
       " 2000-01-02   -1.422350\n",
       " 2000-01-03   -0.381204\n",
       " 2000-01-04   -0.236688\n",
       " 2000-01-05    1.823567\n",
       " 2000-01-06    0.252400\n",
       " 2000-01-07    0.788368\n",
       " 2000-01-08    1.002816\n",
       " Freq: D, Name: D, dtype: float64}"
      ]
     },
     "execution_count": 14,
     "metadata": {},
     "output_type": "execute_result"
    }
   ],
   "source": [
    "dict(df)"
   ]
  },
  {
   "cell_type": "code",
   "execution_count": 18,
   "metadata": {},
   "outputs": [
    {
     "data": {
      "text/html": [
       "<div>\n",
       "<style>\n",
       "    .dataframe thead tr:only-child th {\n",
       "        text-align: right;\n",
       "    }\n",
       "\n",
       "    .dataframe thead th {\n",
       "        text-align: left;\n",
       "    }\n",
       "\n",
       "    .dataframe tbody tr th {\n",
       "        vertical-align: top;\n",
       "    }\n",
       "</style>\n",
       "<table border=\"1\" class=\"dataframe\">\n",
       "  <thead>\n",
       "    <tr style=\"text-align: right;\">\n",
       "      <th></th>\n",
       "      <th>newA</th>\n",
       "      <th>B</th>\n",
       "      <th>C</th>\n",
       "      <th>D</th>\n",
       "    </tr>\n",
       "  </thead>\n",
       "  <tbody>\n",
       "    <tr>\n",
       "      <th>2000-01-01</th>\n",
       "      <td>-0.048497</td>\n",
       "      <td>-0.383392</td>\n",
       "      <td>0.061058</td>\n",
       "      <td>0.922356</td>\n",
       "    </tr>\n",
       "    <tr>\n",
       "      <th>2000-01-02</th>\n",
       "      <td>-0.798410</td>\n",
       "      <td>1.445940</td>\n",
       "      <td>1.022298</td>\n",
       "      <td>-1.422350</td>\n",
       "    </tr>\n",
       "    <tr>\n",
       "      <th>2000-01-03</th>\n",
       "      <td>-0.537043</td>\n",
       "      <td>1.538101</td>\n",
       "      <td>0.922385</td>\n",
       "      <td>-0.381204</td>\n",
       "    </tr>\n",
       "    <tr>\n",
       "      <th>2000-01-04</th>\n",
       "      <td>-0.838793</td>\n",
       "      <td>-0.546656</td>\n",
       "      <td>0.351019</td>\n",
       "      <td>-0.236688</td>\n",
       "    </tr>\n",
       "    <tr>\n",
       "      <th>2000-01-05</th>\n",
       "      <td>-0.080170</td>\n",
       "      <td>-0.021887</td>\n",
       "      <td>-1.457145</td>\n",
       "      <td>1.823567</td>\n",
       "    </tr>\n",
       "    <tr>\n",
       "      <th>2000-01-06</th>\n",
       "      <td>-1.281169</td>\n",
       "      <td>1.230012</td>\n",
       "      <td>-1.389655</td>\n",
       "      <td>0.252400</td>\n",
       "    </tr>\n",
       "    <tr>\n",
       "      <th>2000-01-07</th>\n",
       "      <td>0.129598</td>\n",
       "      <td>0.064726</td>\n",
       "      <td>-0.938876</td>\n",
       "      <td>0.788368</td>\n",
       "    </tr>\n",
       "    <tr>\n",
       "      <th>2000-01-08</th>\n",
       "      <td>-1.251204</td>\n",
       "      <td>0.444398</td>\n",
       "      <td>-1.069567</td>\n",
       "      <td>1.002816</td>\n",
       "    </tr>\n",
       "  </tbody>\n",
       "</table>\n",
       "</div>"
      ],
      "text/plain": [
       "                newA         B         C         D\n",
       "2000-01-01 -0.048497 -0.383392  0.061058  0.922356\n",
       "2000-01-02 -0.798410  1.445940  1.022298 -1.422350\n",
       "2000-01-03 -0.537043  1.538101  0.922385 -0.381204\n",
       "2000-01-04 -0.838793 -0.546656  0.351019 -0.236688\n",
       "2000-01-05 -0.080170 -0.021887 -1.457145  1.823567\n",
       "2000-01-06 -1.281169  1.230012 -1.389655  0.252400\n",
       "2000-01-07  0.129598  0.064726 -0.938876  0.788368\n",
       "2000-01-08 -1.251204  0.444398 -1.069567  1.002816"
      ]
     },
     "execution_count": 18,
     "metadata": {},
     "output_type": "execute_result"
    }
   ],
   "source": [
    "df.rename(columns={'A':'newA'},inplace = True)\n",
    "df"
   ]
  },
  {
   "cell_type": "code",
   "execution_count": null,
   "metadata": {
    "collapsed": true
   },
   "outputs": [],
   "source": []
  }
 ],
 "metadata": {
  "kernelspec": {
   "display_name": "Python 3",
   "language": "python",
   "name": "python3"
  },
  "language_info": {
   "codemirror_mode": {
    "name": "ipython",
    "version": 3
   },
   "file_extension": ".py",
   "mimetype": "text/x-python",
   "name": "python",
   "nbconvert_exporter": "python",
   "pygments_lexer": "ipython3",
   "version": "3.6.1"
  }
 },
 "nbformat": 4,
 "nbformat_minor": 2
}
