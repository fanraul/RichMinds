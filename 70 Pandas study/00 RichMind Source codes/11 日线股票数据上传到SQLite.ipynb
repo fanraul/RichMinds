{
 "cells": [
  {
   "cell_type": "markdown",
   "metadata": {
    "collapsed": false
   },
   "source": [
    "# 导入日线数据"
   ]
  },
  {
   "cell_type": "code",
   "execution_count": 1,
   "metadata": {
    "collapsed": true
   },
   "outputs": [],
   "source": [
    "import os\n",
    "import json\n",
    "from datetime import datetime,timedelta\n",
    "# import mysql.connector\n",
    "import sqlite3\n",
    "import shutil"
   ]
  },
  {
   "cell_type": "code",
   "execution_count": 4,
   "metadata": {
    "collapsed": false
   },
   "outputs": [
    {
     "name": "stdout",
     "output_type": "stream",
     "text": [
      "处理完毕，请检查migration log\n"
     ]
    }
   ],
   "source": [
    "def datetime_from_str(date,time):\n",
    "    year_s, mon_s, day_s = date.split('/')\n",
    "    try:\n",
    "        return datetime(int(year_s), int(mon_s), int(day_s),int(time[:2]),int(time[2:]))\n",
    "    except:\n",
    "        print ('日期时间格式解析错误',year_s, mon_s, day_s,time)\n",
    "\n",
    "#reading RichMinds config file \n",
    "config_file = r'C:\\RichMinds\\Config.json'\n",
    "f = open(config_file,'r')\n",
    "config_json =json.load(f)\n",
    "\n",
    "#Get data loading path\n",
    "load_path = config_json['daily import path']\n",
    "#print ('股票一分钟线数据导入程序初始化:')\n",
    "#print ('请确认导入目录:',load_path )\n",
    "#while True:\n",
    "#    input_load_path = input('如需更改路径,请输入新的路径')\n",
    "#    if len(input_load_path) > 5 and os.path.isdir(os.path.join(input_load_path)):\n",
    "#        load_path = input_load_path\n",
    "#        break\n",
    "#    elif input_load_path == '':\n",
    "#        break\n",
    "#    print('错误的文件路径')\n",
    "\n",
    "#Get log path and create log files\n",
    "log_path = config_json['log path']\n",
    "current_datetime =datetime.now()\n",
    "local_now = '{:%Y-%m-%d_%H%M%S}'.format(current_datetime)\n",
    "log_file_id = '股票日线导入日志_'+ local_now[:19]\n",
    "log_file_name = log_file_id + '.txt'\n",
    "log_file_handle = open(os.path.join(log_path,log_file_name),'wt')\n",
    "\n",
    "#Get processed path for processed file to be moved, path from config plus log_id\n",
    "processed_path = config_json['processed path'] + '\\\\'+ log_file_id\n",
    "os.mkdir(processed_path)\n",
    "\n",
    "#get file list from data loading path\n",
    "filenames = [filename for filename in os.listdir(load_path)\n",
    "               if os.path.isfile(os.path.join(load_path,filename))]\n",
    "\n",
    "#open database connection, remove MySQL, change to SQLite\n",
    "#cnx = mysql.connector.connect(user=config_json['DB server']['user'], \n",
    "#                              password=config_json['DB server']['password'],\n",
    "#                              host=config_json['DB server']['host'],\n",
    "#                              database=config_json['DB server']['database'])\n",
    "\n",
    "cnx = sqlite3.connect('richmindsdev.db')\n",
    "\n",
    "dbcursor = cnx.cursor()\n",
    "\n",
    "\n",
    "\n",
    "print('---开始导入数据---',file = log_file_handle)\n",
    "#000001 上证指数 日线 不复权\n",
    "#      日期\t    开盘\t    最高\t    最低\t    收盘\t    成交量\t    成交额\n",
    "#2011/10/10,2363.08,2368.15,2338.69,2344.79,41745306,39926411264.00\n",
    "#2011/10/11,2401.74,2412.38,2323.41,2348.52,63975805,62773514240.00\n",
    "\n",
    "for filename in filenames:\n",
    "    print('开始处理文件:',filename,file=log_file_handle)\n",
    "    filehandler = open(os.path.join(load_path,filename),'rt')\n",
    "    line_id = 0\n",
    "    for line in filehandler:\n",
    "        line_id  = line_id + 1\n",
    "        line = line.strip()\n",
    "        if line_id == 1:\n",
    "            words = line.split(' ')\n",
    "            stock_id = words[0]\n",
    "            stock_name = words[1]\n",
    "#MySQl -> SQLite3\n",
    "#            add_stock_info = ('''REPLACE INTO stock_basic_info \n",
    "#            (Stock_ID, Stock_Name) VALUES (%s, %s)''')\n",
    "            add_stock_info = '''REPLACE INTO stock_basic_info (Stock_ID, Stock_Name) VALUES (?, ?)'''\n",
    "            data_stock_info = (stock_id, stock_name)\n",
    "            # print (add_stock_info,data_stock_info)\n",
    "            # Insert or replace new stock_info\n",
    "            dbcursor.execute(add_stock_info,data_stock_info)\n",
    "        elif line_id ==2: continue\n",
    "        elif line.startswith('数据来源'): continue\n",
    "        else:\n",
    "            words = line.split(',')\n",
    "            trans_date = words[0]\n",
    "            trans_time =  '1500'\n",
    "            trans_datetime = datetime_from_str(trans_date,trans_time)\n",
    "            open_price = words[1]\n",
    "            high_price = words[2]\n",
    "            low_price = words[3]\n",
    "            close_price = words[4]\n",
    "            trans_volume = words[5]\n",
    "            trans_turnover = words[6]\n",
    "#MySQl -> SQLite3 \n",
    "#            add_stock_trans_detail = ('''INSERT IGNORE INTO stock_1minute_noauth \n",
    "#            (Stock_ID,TransDateTime,Open,High,Low,Close,Volume,Turnover)\n",
    "#            VALUES (%s,%s,%s,%s,%s,%s,%s,%s)''')\n",
    "            add_stock_trans_detail = '''INSERT OR IGNORE INTO stock_daily_noauth \n",
    "            (Stock_ID,TransDateTime,Open,High,Low,Close,Volume,Turnover)\n",
    "            VALUES (?,?,?,?,?,?,?,?)'''\n",
    "            data_stock_trans_detail = (stock_id,trans_datetime,open_price,high_price,low_price,close_price,trans_volume,trans_turnover)\n",
    "            # Insert or replace new stock_info\n",
    "            dbcursor.execute( add_stock_trans_detail,data_stock_trans_detail)        \n",
    "    cnx.commit()\n",
    "    filehandler.close()\n",
    "    shutil.move(os.path.join(load_path,filename),os.path.join(processed_path,filename))\n",
    "        \n",
    "dbcursor.close()\n",
    "cnx.close()            \n",
    "log_file_handle.close()\n",
    "\n",
    "print ('处理完毕，请检查migration log')\n"
   ]
  },
  {
   "cell_type": "code",
   "execution_count": null,
   "metadata": {
    "collapsed": true
   },
   "outputs": [],
   "source": []
  }
 ],
 "metadata": {
  "kernelspec": {
   "display_name": "Python 3",
   "language": "python",
   "name": "python3"
  },
  "language_info": {
   "codemirror_mode": {
    "name": "ipython",
    "version": 3
   },
   "file_extension": ".py",
   "mimetype": "text/x-python",
   "name": "python",
   "nbconvert_exporter": "python",
   "pygments_lexer": "ipython3",
   "version": "3.5.1"
  }
 },
 "nbformat": 4,
 "nbformat_minor": 0
}
