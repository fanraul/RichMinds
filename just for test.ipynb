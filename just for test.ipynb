{
 "cells": [
  {
   "cell_type": "code",
   "execution_count": 13,
   "metadata": {
    "collapsed": false
   },
   "outputs": [],
   "source": [
    "import mysql.connector\n",
    "cnx = mysql.connector.connect(user='Admin0', password='12345678',\n",
    "host='localhost',\n",
    "database='cn_stock_dev')\n",
    "\n",
    "cursor = cnx.cursor()\n",
    "\n",
    "add_stock_info = ('''REPLACE INTO stock_basic_info \n",
    "            (Stock_ID, Stock_Name) VALUES (%s, %s)''')\n",
    "data_stock_info = ('600001', 'terry fan')\n",
    "# Insert new employee\n",
    "cursor.execute(add_stock_info,data_stock_info)\n",
    "cnx.commit()\n",
    "cursor.close()\n",
    "cnx.close()"
   ]
  },
  {
   "cell_type": "code",
   "execution_count": null,
   "metadata": {
    "collapsed": true
   },
   "outputs": [],
   "source": [
    "import numpy as np\n",
    "import matplotlib.pyplot as plt\n",
    "%matplotlib.inline\n",
    "'points = np'"
   ]
  }
 ],
 "metadata": {
  "kernelspec": {
   "display_name": "Python 3",
   "language": "python",
   "name": "python3"
  },
  "language_info": {
   "codemirror_mode": {
    "name": "ipython",
    "version": 3
   },
   "file_extension": ".py",
   "mimetype": "text/x-python",
   "name": "python",
   "nbconvert_exporter": "python",
   "pygments_lexer": "ipython3",
   "version": "3.5.1"
  }
 },
 "nbformat": 4,
 "nbformat_minor": 0
}
