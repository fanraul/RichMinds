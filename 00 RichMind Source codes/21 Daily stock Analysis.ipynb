{
 "cells": [
  {
   "cell_type": "code",
   "execution_count": 4,
   "metadata": {
    "collapsed": false
   },
   "outputs": [],
   "source": [
    "import pandas as pd\n",
    "import numpy as np\n",
    "from pandas import Series, DataFrame\n",
    "from sqlalchemy import create_engine"
   ]
  },
  {
   "cell_type": "code",
   "execution_count": 13,
   "metadata": {
    "collapsed": false
   },
   "outputs": [
    {
     "data": {
      "text/html": [
       "<div>\n",
       "<table border=\"1\" class=\"dataframe\">\n",
       "  <thead>\n",
       "    <tr style=\"text-align: right;\">\n",
       "      <th></th>\n",
       "      <th>Stock_ID</th>\n",
       "      <th>TransDateTime</th>\n",
       "      <th>Open</th>\n",
       "      <th>High</th>\n",
       "      <th>Low</th>\n",
       "      <th>Close</th>\n",
       "      <th>Volume</th>\n",
       "      <th>Turnover</th>\n",
       "      <th>Stock_ID</th>\n",
       "      <th>Stock_Name</th>\n",
       "    </tr>\n",
       "  </thead>\n",
       "  <tbody>\n",
       "    <tr>\n",
       "      <th>0</th>\n",
       "      <td>000001</td>\n",
       "      <td>2011-10-10 15:00:00</td>\n",
       "      <td>2363.08</td>\n",
       "      <td>2368.15</td>\n",
       "      <td>2338.69</td>\n",
       "      <td>2344.79</td>\n",
       "      <td>41745306</td>\n",
       "      <td>39926411264</td>\n",
       "      <td>000001</td>\n",
       "      <td>上证指数</td>\n",
       "    </tr>\n",
       "    <tr>\n",
       "      <th>1</th>\n",
       "      <td>000001</td>\n",
       "      <td>2011-10-11 15:00:00</td>\n",
       "      <td>2401.74</td>\n",
       "      <td>2412.38</td>\n",
       "      <td>2323.41</td>\n",
       "      <td>2348.52</td>\n",
       "      <td>63975805</td>\n",
       "      <td>62773514240</td>\n",
       "      <td>000001</td>\n",
       "      <td>上证指数</td>\n",
       "    </tr>\n",
       "    <tr>\n",
       "      <th>2</th>\n",
       "      <td>000001</td>\n",
       "      <td>2011-10-12 15:00:00</td>\n",
       "      <td>2335.49</td>\n",
       "      <td>2421.69</td>\n",
       "      <td>2318.63</td>\n",
       "      <td>2420.00</td>\n",
       "      <td>91508567</td>\n",
       "      <td>84438392832</td>\n",
       "      <td>000001</td>\n",
       "      <td>上证指数</td>\n",
       "    </tr>\n",
       "    <tr>\n",
       "      <th>3</th>\n",
       "      <td>000001</td>\n",
       "      <td>2011-10-13 15:00:00</td>\n",
       "      <td>2412.83</td>\n",
       "      <td>2439.64</td>\n",
       "      <td>2406.28</td>\n",
       "      <td>2438.79</td>\n",
       "      <td>87860106</td>\n",
       "      <td>82192310272</td>\n",
       "      <td>000001</td>\n",
       "      <td>上证指数</td>\n",
       "    </tr>\n",
       "    <tr>\n",
       "      <th>4</th>\n",
       "      <td>000001</td>\n",
       "      <td>2011-10-14 15:00:00</td>\n",
       "      <td>2429.88</td>\n",
       "      <td>2437.59</td>\n",
       "      <td>2409.29</td>\n",
       "      <td>2431.37</td>\n",
       "      <td>60673159</td>\n",
       "      <td>58276065280</td>\n",
       "      <td>000001</td>\n",
       "      <td>上证指数</td>\n",
       "    </tr>\n",
       "  </tbody>\n",
       "</table>\n",
       "</div>"
      ],
      "text/plain": [
       "  Stock_ID        TransDateTime     Open     High      Low    Close    Volume  \\\n",
       "0   000001  2011-10-10 15:00:00  2363.08  2368.15  2338.69  2344.79  41745306   \n",
       "1   000001  2011-10-11 15:00:00  2401.74  2412.38  2323.41  2348.52  63975805   \n",
       "2   000001  2011-10-12 15:00:00  2335.49  2421.69  2318.63  2420.00  91508567   \n",
       "3   000001  2011-10-13 15:00:00  2412.83  2439.64  2406.28  2438.79  87860106   \n",
       "4   000001  2011-10-14 15:00:00  2429.88  2437.59  2409.29  2431.37  60673159   \n",
       "\n",
       "      Turnover Stock_ID Stock_Name  \n",
       "0  39926411264   000001       上证指数  \n",
       "1  62773514240   000001       上证指数  \n",
       "2  84438392832   000001       上证指数  \n",
       "3  82192310272   000001       上证指数  \n",
       "4  58276065280   000001       上证指数  "
      ]
     },
     "execution_count": 13,
     "metadata": {},
     "output_type": "execute_result"
    }
   ],
   "source": [
    "# Create your engine.\n",
    "engine = create_engine('sqlite:///richmindsdev.db')\n",
    "data = pd.read_sql_query('select * from stock_daily_noauth inner join stock_basic_info on stock_daily_noauth.Stock_ID = stock_basic_info.Stock_ID'\n",
    "                         , engine)\n",
    "data.head()"
   ]
  },
  {
   "cell_type": "code",
   "execution_count": null,
   "metadata": {
    "collapsed": true
   },
   "outputs": [],
   "source": [
    "#分析2015年度，每个月的成交量\n"
   ]
  }
 ],
 "metadata": {
  "kernelspec": {
   "display_name": "Python 3",
   "language": "python",
   "name": "python3"
  },
  "language_info": {
   "codemirror_mode": {
    "name": "ipython",
    "version": 3
   },
   "file_extension": ".py",
   "mimetype": "text/x-python",
   "name": "python",
   "nbconvert_exporter": "python",
   "pygments_lexer": "ipython3",
   "version": "3.5.1"
  }
 },
 "nbformat": 4,
 "nbformat_minor": 0
}
