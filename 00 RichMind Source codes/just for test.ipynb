{
 "cells": [
  {
   "cell_type": "code",
   "execution_count": 13,
   "metadata": {
    "collapsed": false
   },
   "outputs": [],
   "source": [
    "import mysql.connector\n",
    "cnx = mysql.connector.connect(user='Admin0', password='12345678',\n",
    "host='localhost',\n",
    "database='cn_stock_dev')\n",
    "\n",
    "cursor = cnx.cursor()\n",
    "\n",
    "add_stock_info = ('''REPLACE INTO stock_basic_info \n",
    "            (Stock_ID, Stock_Name) VALUES (%s, %s)''')\n",
    "data_stock_info = ('600001', 'terry fan')\n",
    "# Insert new employee\n",
    "cursor.execute(add_stock_info,data_stock_info)\n",
    "cnx.commit()\n",
    "cursor.close()\n",
    "cnx.close()"
   ]
  },
  {
   "cell_type": "code",
   "execution_count": 3,
   "metadata": {
    "collapsed": false
   },
   "outputs": [
    {
     "data": {
      "text/plain": [
       "[('c', 6, 0), ('b', 1, 2), ('e', 9, 2), ('a', 3, 7), ('d', 2, 9)]"
      ]
     },
     "execution_count": 3,
     "metadata": {},
     "output_type": "execute_result"
    }
   ],
   "source": [
    "l=[('a',3,7), ('b',1,2), ('c',6,0), ('d',2,9), ('e',9,2)]\n",
    "l.sort(key=lambda x:x[2])      #按第一列排序,非第零列\n",
    "l"
   ]
  },
  {
   "cell_type": "code",
   "execution_count": 19,
   "metadata": {
    "collapsed": false
   },
   "outputs": [
    {
     "data": {
      "text/plain": [
       "13"
      ]
     },
     "execution_count": 19,
     "metadata": {},
     "output_type": "execute_result"
    }
   ],
   "source": [
    "import os\n",
    "import json\n",
    "from datetime import datetime,timedelta\n",
    "# import mysql.connector\n",
    "import sqlite3\n",
    "import shutil\n",
    "\n",
    "def datetime_from_str(date,time):\n",
    "    year_s, mon_s, day_s = date.split('/')\n",
    "    time[:2]\n",
    "    time[2:]\n",
    "    try:\n",
    "        return datetime(int(year_s), int(mon_s), int(day_s),int(time[:2]),int(time[2:]))\n",
    "    except:\n",
    "        pass\n",
    "#        print (year_s, mon_s, day_s,time)\n",
    "\n",
    "l = datetime_from_str('2016/01/10','1300')\n",
    "l = l + timedelta(minutes = 10)\n",
    "l.hour\n",
    "\n"
   ]
  },
  {
   "cell_type": "code",
   "execution_count": null,
   "metadata": {
    "collapsed": true
   },
   "outputs": [],
   "source": []
  }
 ],
 "metadata": {
  "kernelspec": {
   "display_name": "Python 3",
   "language": "python",
   "name": "python3"
  },
  "language_info": {
   "codemirror_mode": {
    "name": "ipython",
    "version": 3
   },
   "file_extension": ".py",
   "mimetype": "text/x-python",
   "name": "python",
   "nbconvert_exporter": "python",
   "pygments_lexer": "ipython3",
   "version": "3.5.1"
  }
 },
 "nbformat": 4,
 "nbformat_minor": 0
}
