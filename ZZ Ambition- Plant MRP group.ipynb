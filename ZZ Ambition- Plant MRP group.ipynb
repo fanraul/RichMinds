{
 "cells": [
  {
   "cell_type": "code",
   "execution_count": 7,
   "metadata": {
    "collapsed": false
   },
   "outputs": [],
   "source": [
    "import numpy as np\n",
    "from pandas import Series, DataFrame\n",
    "import pandas as pd"
   ]
  },
  {
   "cell_type": "code",
   "execution_count": 21,
   "metadata": {
    "collapsed": false
   },
   "outputs": [
    {
     "data": {
      "text/html": [
       "<div>\n",
       "<table border=\"1\" class=\"dataframe\">\n",
       "  <thead>\n",
       "    <tr style=\"text-align: right;\">\n",
       "      <th></th>\n",
       "      <th>plant</th>\n",
       "      <th>description</th>\n",
       "      <th>type</th>\n",
       "    </tr>\n",
       "  </thead>\n",
       "  <tbody>\n",
       "    <tr>\n",
       "      <th>0</th>\n",
       "      <td>24LT</td>\n",
       "      <td>LTH LOGITICS (SINGAPORE) PTE LTD</td>\n",
       "      <td>WAREHOUSE</td>\n",
       "    </tr>\n",
       "    <tr>\n",
       "      <th>1</th>\n",
       "      <td>24CW</td>\n",
       "      <td>CWT INTEGRATED PTE LTD</td>\n",
       "      <td>WAREHOUSE</td>\n",
       "    </tr>\n",
       "    <tr>\n",
       "      <th>2</th>\n",
       "      <td>24TE</td>\n",
       "      <td>TRIPLE EAGLE FORWARDING (TAIWAN) LTD</td>\n",
       "      <td>WAREHOUSE</td>\n",
       "    </tr>\n",
       "    <tr>\n",
       "      <th>3</th>\n",
       "      <td>24AW</td>\n",
       "      <td>ASIAN WAREHOUSING SINGAPORE PTE LTD</td>\n",
       "      <td>WAREHOUSE</td>\n",
       "    </tr>\n",
       "    <tr>\n",
       "      <th>4</th>\n",
       "      <td>24AU</td>\n",
       "      <td>AURORA CHEMICALS SDN BHD</td>\n",
       "      <td>WAREHOUSE</td>\n",
       "    </tr>\n",
       "  </tbody>\n",
       "</table>\n",
       "</div>"
      ],
      "text/plain": [
       "  plant                           description       type\n",
       "0  24LT      LTH LOGITICS (SINGAPORE) PTE LTD  WAREHOUSE\n",
       "1  24CW                CWT INTEGRATED PTE LTD  WAREHOUSE\n",
       "2  24TE  TRIPLE EAGLE FORWARDING (TAIWAN) LTD  WAREHOUSE\n",
       "3  24AW   ASIAN WAREHOUSING SINGAPORE PTE LTD  WAREHOUSE\n",
       "4  24AU              AURORA CHEMICALS SDN BHD  WAREHOUSE"
      ]
     },
     "execution_count": 21,
     "metadata": {},
     "output_type": "execute_result"
    }
   ],
   "source": [
    "#get plant list from clipboard\n",
    "plant_dfm = pd.read_clipboard()\n",
    "plant_dfm.head()"
   ]
  },
  {
   "cell_type": "code",
   "execution_count": 22,
   "metadata": {
    "collapsed": false
   },
   "outputs": [
    {
     "data": {
      "text/html": [
       "<div>\n",
       "<table border=\"1\" class=\"dataframe\">\n",
       "  <thead>\n",
       "    <tr style=\"text-align: right;\">\n",
       "      <th></th>\n",
       "      <th>type</th>\n",
       "      <th>MRP group</th>\n",
       "    </tr>\n",
       "  </thead>\n",
       "  <tbody>\n",
       "    <tr>\n",
       "      <th>0</th>\n",
       "      <td>WAREHOUSE</td>\n",
       "      <td>ZPUR</td>\n",
       "    </tr>\n",
       "    <tr>\n",
       "      <th>1</th>\n",
       "      <td>WAREHOUSE</td>\n",
       "      <td>ZOTH</td>\n",
       "    </tr>\n",
       "    <tr>\n",
       "      <th>2</th>\n",
       "      <td>WAREHOUSE</td>\n",
       "      <td>ZSUB</td>\n",
       "    </tr>\n",
       "    <tr>\n",
       "      <th>3</th>\n",
       "      <td>TOLLER</td>\n",
       "      <td>ZPUR</td>\n",
       "    </tr>\n",
       "    <tr>\n",
       "      <th>4</th>\n",
       "      <td>TOLLER</td>\n",
       "      <td>ZOTH</td>\n",
       "    </tr>\n",
       "  </tbody>\n",
       "</table>\n",
       "</div>"
      ],
      "text/plain": [
       "        type MRP group\n",
       "0  WAREHOUSE      ZPUR\n",
       "1  WAREHOUSE      ZOTH\n",
       "2  WAREHOUSE      ZSUB\n",
       "3     TOLLER      ZPUR\n",
       "4     TOLLER      ZOTH"
      ]
     },
     "execution_count": 22,
     "metadata": {},
     "output_type": "execute_result"
    }
   ],
   "source": [
    "#get type-MRP group mapping from clipboard\n",
    "mrp_dfm =pd.read_clipboard()\n",
    "mrp_dfm.head()"
   ]
  },
  {
   "cell_type": "code",
   "execution_count": 24,
   "metadata": {
    "collapsed": false
   },
   "outputs": [
    {
     "data": {
      "text/html": [
       "<div>\n",
       "<table border=\"1\" class=\"dataframe\">\n",
       "  <thead>\n",
       "    <tr style=\"text-align: right;\">\n",
       "      <th></th>\n",
       "      <th>plant</th>\n",
       "      <th>description</th>\n",
       "      <th>type</th>\n",
       "      <th>MRP group</th>\n",
       "    </tr>\n",
       "  </thead>\n",
       "  <tbody>\n",
       "    <tr>\n",
       "      <th>0</th>\n",
       "      <td>24LT</td>\n",
       "      <td>LTH LOGITICS (SINGAPORE) PTE LTD</td>\n",
       "      <td>WAREHOUSE</td>\n",
       "      <td>ZPUR</td>\n",
       "    </tr>\n",
       "    <tr>\n",
       "      <th>1</th>\n",
       "      <td>24LT</td>\n",
       "      <td>LTH LOGITICS (SINGAPORE) PTE LTD</td>\n",
       "      <td>WAREHOUSE</td>\n",
       "      <td>ZOTH</td>\n",
       "    </tr>\n",
       "    <tr>\n",
       "      <th>2</th>\n",
       "      <td>24LT</td>\n",
       "      <td>LTH LOGITICS (SINGAPORE) PTE LTD</td>\n",
       "      <td>WAREHOUSE</td>\n",
       "      <td>ZSUB</td>\n",
       "    </tr>\n",
       "    <tr>\n",
       "      <th>3</th>\n",
       "      <td>24CW</td>\n",
       "      <td>CWT INTEGRATED PTE LTD</td>\n",
       "      <td>WAREHOUSE</td>\n",
       "      <td>ZPUR</td>\n",
       "    </tr>\n",
       "    <tr>\n",
       "      <th>4</th>\n",
       "      <td>24CW</td>\n",
       "      <td>CWT INTEGRATED PTE LTD</td>\n",
       "      <td>WAREHOUSE</td>\n",
       "      <td>ZOTH</td>\n",
       "    </tr>\n",
       "  </tbody>\n",
       "</table>\n",
       "</div>"
      ],
      "text/plain": [
       "  plant                       description       type MRP group\n",
       "0  24LT  LTH LOGITICS (SINGAPORE) PTE LTD  WAREHOUSE      ZPUR\n",
       "1  24LT  LTH LOGITICS (SINGAPORE) PTE LTD  WAREHOUSE      ZOTH\n",
       "2  24LT  LTH LOGITICS (SINGAPORE) PTE LTD  WAREHOUSE      ZSUB\n",
       "3  24CW            CWT INTEGRATED PTE LTD  WAREHOUSE      ZPUR\n",
       "4  24CW            CWT INTEGRATED PTE LTD  WAREHOUSE      ZOTH"
      ]
     },
     "execution_count": 24,
     "metadata": {},
     "output_type": "execute_result"
    }
   ],
   "source": [
    "#one to many merge plant list with MRP group list on 'type'\n",
    "plantmrp_dfm = pd.merge(plant_dfm,mrp_dfm,on='type')\n",
    "plantmrp_dfm.head()"
   ]
  },
  {
   "cell_type": "code",
   "execution_count": 34,
   "metadata": {
    "collapsed": false
   },
   "outputs": [
    {
     "data": {
      "text/plain": [
       "{'ZMTS': 'Production in Make-To-Stock',\n",
       " 'ZOTH': 'Others',\n",
       " 'ZPTS': 'Packaging in Make-To-Stock',\n",
       " 'ZPUR': 'Purchased material (Supply chain)',\n",
       " 'ZSUB': 'Subcontracting'}"
      ]
     },
     "execution_count": 34,
     "metadata": {},
     "output_type": "execute_result"
    }
   ],
   "source": [
    "#mapping for MRP description\n",
    "mrpdescription = {'ZPTS':'Packaging in Make-To-Stock',\n",
    "                  'ZMTS':'Production in Make-To-Stock',\n",
    "                  'ZPUR':'Purchased material (Supply chain)',\n",
    "                  'ZOTH':'Others',\n",
    "                  'ZSUB':'Subcontracting'}\n",
    "\n",
    "mrpdescription"
   ]
  },
  {
   "cell_type": "code",
   "execution_count": 35,
   "metadata": {
    "collapsed": false
   },
   "outputs": [],
   "source": [
    "#add mrp description in the plantmrp_dfm\n",
    "plantmrp_dfm['MRP group description'] = plantmrp_dfm['MRP group'].map(mrpdescription)"
   ]
  },
  {
   "cell_type": "code",
   "execution_count": 36,
   "metadata": {
    "collapsed": false
   },
   "outputs": [
    {
     "data": {
      "text/html": [
       "<div>\n",
       "<table border=\"1\" class=\"dataframe\">\n",
       "  <thead>\n",
       "    <tr style=\"text-align: right;\">\n",
       "      <th></th>\n",
       "      <th>plant</th>\n",
       "      <th>description</th>\n",
       "      <th>type</th>\n",
       "      <th>MRP group</th>\n",
       "      <th>MRP group description</th>\n",
       "    </tr>\n",
       "  </thead>\n",
       "  <tbody>\n",
       "    <tr>\n",
       "      <th>0</th>\n",
       "      <td>24LT</td>\n",
       "      <td>LTH LOGITICS (SINGAPORE) PTE LTD</td>\n",
       "      <td>WAREHOUSE</td>\n",
       "      <td>ZPUR</td>\n",
       "      <td>Purchased material (Supply chain)</td>\n",
       "    </tr>\n",
       "    <tr>\n",
       "      <th>1</th>\n",
       "      <td>24LT</td>\n",
       "      <td>LTH LOGITICS (SINGAPORE) PTE LTD</td>\n",
       "      <td>WAREHOUSE</td>\n",
       "      <td>ZOTH</td>\n",
       "      <td>Others</td>\n",
       "    </tr>\n",
       "    <tr>\n",
       "      <th>2</th>\n",
       "      <td>24LT</td>\n",
       "      <td>LTH LOGITICS (SINGAPORE) PTE LTD</td>\n",
       "      <td>WAREHOUSE</td>\n",
       "      <td>ZSUB</td>\n",
       "      <td>Subcontracting</td>\n",
       "    </tr>\n",
       "    <tr>\n",
       "      <th>3</th>\n",
       "      <td>24CW</td>\n",
       "      <td>CWT INTEGRATED PTE LTD</td>\n",
       "      <td>WAREHOUSE</td>\n",
       "      <td>ZPUR</td>\n",
       "      <td>Purchased material (Supply chain)</td>\n",
       "    </tr>\n",
       "    <tr>\n",
       "      <th>4</th>\n",
       "      <td>24CW</td>\n",
       "      <td>CWT INTEGRATED PTE LTD</td>\n",
       "      <td>WAREHOUSE</td>\n",
       "      <td>ZOTH</td>\n",
       "      <td>Others</td>\n",
       "    </tr>\n",
       "  </tbody>\n",
       "</table>\n",
       "</div>"
      ],
      "text/plain": [
       "  plant                       description       type MRP group  \\\n",
       "0  24LT  LTH LOGITICS (SINGAPORE) PTE LTD  WAREHOUSE      ZPUR   \n",
       "1  24LT  LTH LOGITICS (SINGAPORE) PTE LTD  WAREHOUSE      ZOTH   \n",
       "2  24LT  LTH LOGITICS (SINGAPORE) PTE LTD  WAREHOUSE      ZSUB   \n",
       "3  24CW            CWT INTEGRATED PTE LTD  WAREHOUSE      ZPUR   \n",
       "4  24CW            CWT INTEGRATED PTE LTD  WAREHOUSE      ZOTH   \n",
       "\n",
       "               MRP group description  \n",
       "0  Purchased material (Supply chain)  \n",
       "1                             Others  \n",
       "2                     Subcontracting  \n",
       "3  Purchased material (Supply chain)  \n",
       "4                             Others  "
      ]
     },
     "execution_count": 36,
     "metadata": {},
     "output_type": "execute_result"
    }
   ],
   "source": [
    "plantmrp_dfm.head()"
   ]
  },
  {
   "cell_type": "code",
   "execution_count": 40,
   "metadata": {
    "collapsed": false
   },
   "outputs": [],
   "source": [
    "#export to excel\n",
    "plantmrp_dfm.to_excel('plantmrpgourp.xlsx',sheet_name='sheet1')"
   ]
  },
  {
   "cell_type": "code",
   "execution_count": null,
   "metadata": {
    "collapsed": true
   },
   "outputs": [],
   "source": []
  }
 ],
 "metadata": {
  "kernelspec": {
   "display_name": "Python 3",
   "language": "python",
   "name": "python3"
  },
  "language_info": {
   "codemirror_mode": {
    "name": "ipython",
    "version": 3
   },
   "file_extension": ".py",
   "mimetype": "text/x-python",
   "name": "python",
   "nbconvert_exporter": "python",
   "pygments_lexer": "ipython3",
   "version": "3.5.1"
  }
 },
 "nbformat": 4,
 "nbformat_minor": 0
}
