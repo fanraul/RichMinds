{
 "cells": [
  {
   "cell_type": "markdown",
   "metadata": {
    "collapsed": false
   },
   "source": [
    "# 导入股票一分钟线数据"
   ]
  },
  {
   "cell_type": "code",
   "execution_count": 5,
   "metadata": {
    "collapsed": false
   },
   "outputs": [],
   "source": [
    "import os\n",
    "import json\n",
    "from datetime import datetime\n",
    "# import mysql.connector\n",
    "import sqlite3\n",
    "import shutil\n",
    "\n",
    "def datetime_from_str(date,time):\n",
    "    year_s, mon_s, day_s = date.split('/')\n",
    "    return datetime(int(year_s), int(mon_s), int(day_s),int(time[:2]),int(time[2:]))\n",
    "\n",
    "#reading RichMinds config file \n",
    "config_file = r'D:\\RichMinds\\Config.json'\n",
    "f = open(config_file,'r')\n",
    "config_json =json.load(f)\n",
    "\n",
    "#Get data loading path\n",
    "load_path = config_json['1minute import path']\n",
    "#print ('股票一分钟线数据导入程序初始化:')\n",
    "#print ('请确认导入目录:',load_path )\n",
    "#while True:\n",
    "#    input_load_path = input('如需更改路径,请输入新的路径')\n",
    "#    if len(input_load_path) > 5 and os.path.isdir(os.path.join(input_load_path)):\n",
    "#        load_path = input_load_path\n",
    "#        break\n",
    "#    elif input_load_path == '':\n",
    "#        break\n",
    "#    print('错误的文件路径')\n",
    "\n",
    "#Get log path and create log files\n",
    "log_path = config_json['log path']\n",
    "current_datetime =datetime.now()\n",
    "local_now = '{:%Y-%m-%d_%H%M%S}'.format(current_datetime)\n",
    "log_file_id = '股票1分钟线导入日志_'+ local_now[:19]\n",
    "log_file_name = log_file_id + '.txt'\n",
    "log_file_handle = open(os.path.join(log_path,log_file_name),'wt')\n",
    "\n",
    "#Get processed path for processed file to be moved, path from config plus log_id\n",
    "processed_path = config_json['processed path'] + '\\\\'+ log_file_id\n",
    "os.mkdir(processed_path)\n",
    "\n",
    "#get file list from data loading path\n",
    "filenames = [filename for filename in os.listdir(load_path)\n",
    "               if os.path.isfile(os.path.join(load_path,filename))]\n",
    "\n",
    "#open database connection, remove MySQL, change to SQLite\n",
    "#cnx = mysql.connector.connect(user=config_json['DB server']['user'], \n",
    "#                              password=config_json['DB server']['password'],\n",
    "#                              host=config_json['DB server']['host'],\n",
    "#                              database=config_json['DB server']['database'])\n",
    "\n",
    "cnx = sqlite3.connect('richmindsdev.db')\n",
    "\n",
    "dbcursor = cnx.cursor()\n",
    "\n",
    "\n",
    "\n",
    "print('---开始导入数据---',file = log_file_handle)\n",
    "#300001 特锐德 1分钟线 不复权\n",
    "#      日期\t    时间\t    开盘\t    最高\t    最低\t    收盘\t    成交量\t    成交额\n",
    "#2015/12/10,0931,29.61,29.95,29.61,29.83,377100,11201940.00\n",
    "#2015/12/10,0932,29.84,29.84,29.66,29.70,188000,5592458.00\n",
    "for filename in filenames:\n",
    "    print('开始处理文件:',filename,file=log_file_handle)\n",
    "    filehandler = open(os.path.join(load_path,filename),'rt')\n",
    "    line_id = 0\n",
    "    for line in filehandler:\n",
    "        line_id  = line_id + 1\n",
    "        line = line.strip()\n",
    "        if line_id == 1:\n",
    "            words = line.split(' ')\n",
    "            stock_id = words[0]\n",
    "            stock_name = words[1]\n",
    "#MySQl -> SQLite3\n",
    "#            add_stock_info = ('''REPLACE INTO stock_basic_info \n",
    "#            (Stock_ID, Stock_Name) VALUES (%s, %s)''')\n",
    "            add_stock_info = '''REPLACE INTO stock_basic_info (Stock_ID, Stock_Name) VALUES (?, ?)'''\n",
    "            data_stock_info = (stock_id, stock_name)\n",
    "            # print (add_stock_info,data_stock_info)\n",
    "            # Insert or replace new stock_info\n",
    "            dbcursor.execute(add_stock_info,data_stock_info)\n",
    "        elif line_id ==2: continue\n",
    "        elif line.startswith('数据来源'): continue\n",
    "        else:\n",
    "            words = line.split(',')\n",
    "            trans_date = words[0]\n",
    "            trans_time = words[1]\n",
    "            trans_datetime = datetime_from_str(trans_date,trans_time)\n",
    "            open_price = words[2]\n",
    "            high_price = words[3]\n",
    "            low_price = words[4]\n",
    "            close_price = words[5]\n",
    "            trans_volume = words[6]\n",
    "            trans_turnover = words[7]\n",
    "#MySQl -> SQLite3 \n",
    "#            add_stock_trans_detail = ('''INSERT IGNORE INTO stock_1minute_noauth \n",
    "#            (Stock_ID,TransDateTime,Open,High,Low,Close,Volume,Turnover)\n",
    "#            VALUES (%s,%s,%s,%s,%s,%s,%s,%s)''')\n",
    "            add_stock_trans_detail = '''INSERT OR IGNORE INTO stock_1minute_noauth \n",
    "            (Stock_ID,TransDateTime,Open,High,Low,Close,Volume,Turnover)\n",
    "            VALUES (?,?,?,?,?,?,?,?)'''\n",
    "            data_stock_trans_detail = (stock_id,trans_datetime,open_price,high_price,low_price,close_price,trans_volume,trans_turnover)\n",
    "            # Insert or replace new stock_info\n",
    "            dbcursor.execute( add_stock_trans_detail,data_stock_trans_detail)        \n",
    "    cnx.commit()\n",
    "    filehandler.close()\n",
    "    shutil.move(os.path.join(load_path,filename),os.path.join(processed_path,filename))\n",
    "        \n",
    "dbcursor.close()\n",
    "cnx.close()            \n",
    "log_file_handle.close()\n"
   ]
  },
  {
   "cell_type": "markdown",
   "metadata": {
    "collapsed": true
   },
   "source": [
    "# 生成股票N分钟线数据"
   ]
  },
  {
   "cell_type": "code",
   "execution_count": null,
   "metadata": {
    "collapsed": true
   },
   "outputs": [],
   "source": [
    "import os\n",
    "import json\n",
    "from datetime import datetime\n",
    "import mysql.connector\n",
    "import shutil"
   ]
  }
 ],
 "metadata": {
  "kernelspec": {
   "display_name": "Python 3",
   "language": "python",
   "name": "python3"
  },
  "language_info": {
   "codemirror_mode": {
    "name": "ipython",
    "version": 3
   },
   "file_extension": ".py",
   "mimetype": "text/x-python",
   "name": "python",
   "nbconvert_exporter": "python",
   "pygments_lexer": "ipython3",
   "version": "3.5.1"
  }
 },
 "nbformat": 4,
 "nbformat_minor": 0
}
